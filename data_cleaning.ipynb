{
 "cells": [
  {
   "cell_type": "code",
   "execution_count": 4,
   "metadata": {},
   "outputs": [],
   "source": [
    "import pandas as pd \n",
    "import numpy as np \n",
    "import seaborn as sns\n",
    "import matplotlib.pyplot as plt\n",
    "import string\n",
    "import re\n",
    "from collections import defaultdict\n",
    "from nltk.corpus import stopwords\n",
    "from nltk.util import ngrams"
   ]
  },
  {
   "cell_type": "code",
   "execution_count": 47,
   "metadata": {},
   "outputs": [],
   "source": [
    "fpath = \"C:\\\\Users\\\\Happy\\\\Desktop\\\\Computer Science\\\\Projects\\\\Native\\\\reviews_facebook.csv\"\n",
    "data = pd.read_csv(fpath)"
   ]
  },
  {
   "cell_type": "code",
   "execution_count": 3,
   "metadata": {},
   "outputs": [
    {
     "data": {
      "text/plain": [
       "Index(['Name ', 'Review', 'Date ', 'Time', 'Recommendation', 'Sex',\n",
       "       'Location'],\n",
       "      dtype='object')"
      ]
     },
     "execution_count": 3,
     "metadata": {},
     "output_type": "execute_result"
    }
   ],
   "source": [
    "data.columns"
   ]
  },
  {
   "cell_type": "code",
   "execution_count": 21,
   "metadata": {},
   "outputs": [],
   "source": [
    "def create_corpus(target):\n",
    "    corpus=[]\n",
    "    \n",
    "    for words in data[data['Recommendation']==target]['Review'].str.split():\n",
    "        for i, word in enumerate(words):\n",
    "            corpus.append(words[i])\n",
    "    return corpus"
   ]
  },
  {
   "cell_type": "code",
   "execution_count": 51,
   "metadata": {},
   "outputs": [],
   "source": [
    "from sklearn.preprocessing import LabelEncoder\n",
    "lbl= LabelEncoder()\n",
    "lbl.fit(list(data['Recommendation'].values)) \n",
    "data['Recommendation'] = lbl.transform(list(data['Recommendation'].values))\n",
    "\n",
    "stop=set(stopwords.words('english'))\n",
    "corpus=create_corpus(0)\n",
    "\n",
    "dic=defaultdict(int)\n",
    "for word in corpus:\n",
    "    if word in stop:\n",
    "        dic[word]+=1\n",
    "        \n",
    "top=sorted(dic.items(), key=lambda x:x[1],reverse=True)[:10] \n"
   ]
  },
  {
   "cell_type": "code",
   "execution_count": 52,
   "metadata": {},
   "outputs": [
    {
     "data": {
      "text/plain": [
       "<BarContainer object of 10 artists>"
      ]
     },
     "execution_count": 52,
     "metadata": {},
     "output_type": "execute_result"
    },
    {
     "data": {
      "image/png": "[encoded data removed]",
      "text/plain": [
       "<Figure size 432x288 with 1 Axes>"
      ]
     },
     "metadata": {
      "needs_background": "light"
     },
     "output_type": "display_data"
    }
   ],
   "source": [
    "x,y=zip(*top)\n",
    "plt.bar(x,y)"
   ]
  },
  {
   "cell_type": "code",
   "execution_count": 53,
   "metadata": {},
   "outputs": [
    {
     "data": {
      "text/plain": [
       "<BarContainer object of 10 artists>"
      ]
     },
     "execution_count": 53,
     "metadata": {},
     "output_type": "execute_result"
    },
    {
     "data": {
      "image/png": "[encoded data removed]",
      "text/plain": [
       "<Figure size 432x288 with 1 Axes>"
      ]
     },
     "metadata": {
      "needs_background": "light"
     },
     "output_type": "display_data"
    }
   ],
   "source": [
    "corpus=create_corpus(1)\n",
    "\n",
    "dic=defaultdict(int)\n",
    "for word in corpus:\n",
    "    if word in stop:\n",
    "        dic[word]+=1\n",
    "\n",
    "top=sorted(dic.items(), key=lambda x:x[1],reverse=True)[:10] \n",
    "    \n",
    "\n",
    "\n",
    "x,y=zip(*top)\n",
    "plt.bar(x,y)"
   ]
  },
  {
   "cell_type": "code",
   "execution_count": 31,
   "metadata": {},
   "outputs": [
    {
     "data": {
      "text/html": [
       "<div>\n",
       "<style scoped>\n",
       "    .dataframe tbody tr th:only-of-type {\n",
       "        vertical-align: middle;\n",
       "    }\n",
       "\n",
       "    .dataframe tbody tr th {\n",
       "        vertical-align: top;\n",
       "    }\n",
       "\n",
       "    .dataframe thead th {\n",
       "        text-align: right;\n",
       "    }\n",
       "</style>\n",
       "<table border=\"1\" class=\"dataframe\">\n",
       "  <thead>\n",
       "    <tr style=\"text-align: right;\">\n",
       "      <th></th>\n",
       "      <th>Name</th>\n",
       "      <th>Review</th>\n",
       "      <th>Date</th>\n",
       "      <th>Time</th>\n",
       "      <th>Recommendation</th>\n",
       "      <th>Sex</th>\n",
       "      <th>Location</th>\n",
       "    </tr>\n",
       "  </thead>\n",
       "  <tbody>\n",
       "    <tr>\n",
       "      <th>0</th>\n",
       "      <td>Erin Kelly</td>\n",
       "      <td>My giant store added this product recently it ...</td>\n",
       "      <td>13-10-2020</td>\n",
       "      <td>22:25:51</td>\n",
       "      <td>Recommends</td>\n",
       "      <td>Female</td>\n",
       "      <td>NaN</td>\n",
       "    </tr>\n",
       "    <tr>\n",
       "      <th>1</th>\n",
       "      <td>Tammy Loeb</td>\n",
       "      <td>fresh delicious greens that are pesticide free...</td>\n",
       "      <td>31-07-2020</td>\n",
       "      <td>22:26:03</td>\n",
       "      <td>Recommends</td>\n",
       "      <td>Female</td>\n",
       "      <td>Pennsylvania</td>\n",
       "    </tr>\n",
       "    <tr>\n",
       "      <th>2</th>\n",
       "      <td>Betty Kaye</td>\n",
       "      <td>They make fresh, healthy food available locall...</td>\n",
       "      <td>29-07-2020</td>\n",
       "      <td>16:22:53</td>\n",
       "      <td>Recommends</td>\n",
       "      <td>Female</td>\n",
       "      <td>New York</td>\n",
       "    </tr>\n",
       "    <tr>\n",
       "      <th>3</th>\n",
       "      <td>Anna Marie Torre Wright</td>\n",
       "      <td>Awesome lettuces! (Sunny Crunch is my favorite...</td>\n",
       "      <td>24-01-2020</td>\n",
       "      <td>19:01:07</td>\n",
       "      <td>Recommends</td>\n",
       "      <td>Female</td>\n",
       "      <td>New Jersey</td>\n",
       "    </tr>\n",
       "    <tr>\n",
       "      <th>4</th>\n",
       "      <td>Susan Oglesby</td>\n",
       "      <td>Awesome greens. We bought some Sunny Crunch tw...</td>\n",
       "      <td>02-04-2020</td>\n",
       "      <td>23:12:13</td>\n",
       "      <td>Recommends</td>\n",
       "      <td>Female</td>\n",
       "      <td>Virginia</td>\n",
       "    </tr>\n",
       "  </tbody>\n",
       "</table>\n",
       "</div>"
      ],
      "text/plain": [
       "                     Name                                              Review  \\\n",
       "0              Erin Kelly   My giant store added this product recently it ...   \n",
       "1               Tammy Loeb  fresh delicious greens that are pesticide free...   \n",
       "2               Betty Kaye  They make fresh, healthy food available locall...   \n",
       "3  Anna Marie Torre Wright  Awesome lettuces! (Sunny Crunch is my favorite...   \n",
       "4            Susan Oglesby  Awesome greens. We bought some Sunny Crunch tw...   \n",
       "\n",
       "        Date       Time Recommendation      Sex      Location  \n",
       "0  13-10-2020  22:25:51     Recommends  Female            NaN  \n",
       "1  31-07-2020  22:26:03     Recommends  Female   Pennsylvania  \n",
       "2  29-07-2020  16:22:53     Recommends  Female       New York  \n",
       "3  24-01-2020  19:01:07     Recommends  Female     New Jersey  \n",
       "4  02-04-2020  23:12:13     Recommends  Female       Virginia  "
      ]
     },
     "execution_count": 31,
     "metadata": {},
     "output_type": "execute_result"
    }
   ],
   "source": []
  },
  {
   "cell_type": "code",
   "execution_count": 54,
   "metadata": {},
   "outputs": [],
   "source": [
    "from collections import  Counter\n",
    "counter=Counter(corpus)\n",
    "most=counter.most_common()\n",
    "x=[]\n",
    "y=[]\n",
    "for word,count in most[:40]:\n",
    "    if (word not in stop) :\n",
    "        x.append(word)\n",
    "        y.append(count)\n"
   ]
  },
  {
   "cell_type": "code",
   "execution_count": 55,
   "metadata": {},
   "outputs": [
    {
     "data": {
      "text/plain": [
       "<AxesSubplot:>"
      ]
     },
     "execution_count": 55,
     "metadata": {},
     "output_type": "execute_result"
    },
    {
     "data": {
      "image/png": "[encoded data removed]",
      "text/plain": [
       "<Figure size 432x288 with 1 Axes>"
      ]
     },
     "metadata": {
      "needs_background": "light"
     },
     "output_type": "display_data"
    }
   ],
   "source": [
    "sns.barplot(x=y,y=x)"
   ]
  },
  {
   "cell_type": "code",
   "execution_count": 26,
   "metadata": {},
   "outputs": [
    {
     "name": "stdout",
     "output_type": "stream",
     "text": [
      "I am a king\n"
     ]
    }
   ],
   "source": [
    "def remove_punct(text):\n",
    "    table=str.maketrans('','',string.punctuation)\n",
    "    return text.translate(table)\n",
    "\n",
    "example=\"I am a #king\"\n",
    "print(remove_punct(example))"
   ]
  },
  {
   "cell_type": "code",
   "execution_count": 56,
   "metadata": {},
   "outputs": [],
   "source": [
    "data['Review']=data['Review'].apply(lambda x : remove_punct(x))"
   ]
  },
  {
   "cell_type": "code",
   "execution_count": 58,
   "metadata": {},
   "outputs": [
    {
     "name": "stdout",
     "output_type": "stream",
     "text": [
      "Collecting pyspellchecker\n",
      "  Downloading pyspellchecker-0.5.5-py2.py3-none-any.whl (1.9 MB)\n",
      "Installing collected packages: pyspellchecker\n",
      "Successfully installed pyspellchecker-0.5.5\n"
     ]
    }
   ],
   "source": [
    "!pip install pyspellchecker"
   ]
  },
  {
   "cell_type": "code",
   "execution_count": 59,
   "metadata": {},
   "outputs": [
    {
     "data": {
      "text/plain": [
       "'correct me please'"
      ]
     },
     "execution_count": 59,
     "metadata": {},
     "output_type": "execute_result"
    }
   ],
   "source": [
    "from spellchecker import SpellChecker\n",
    "\n",
    "spell = SpellChecker()\n",
    "def correct_spellings(text):\n",
    "    corrected_text = []\n",
    "    misspelled_words = spell.unknown(text.split())\n",
    "    for word in text.split():\n",
    "        if word in misspelled_words:\n",
    "            corrected_text.append(spell.correction(word))\n",
    "        else:\n",
    "            corrected_text.append(word)\n",
    "    return \" \".join(corrected_text)\n",
    "        \n",
    "text = \"corect me plese\"\n",
    "correct_spellings(text)"
   ]
  },
  {
   "cell_type": "code",
   "execution_count": 61,
   "metadata": {},
   "outputs": [],
   "source": [
    "data['Review']=data['Review'].apply(lambda x : correct_spellings(x))"
   ]
  },
  {
   "cell_type": "code",
   "execution_count": 62,
   "metadata": {},
   "outputs": [
    {
     "data": {
      "text/html": [
       "<div>\n",
       "<style scoped>\n",
       "    .dataframe tbody tr th:only-of-type {\n",
       "        vertical-align: middle;\n",
       "    }\n",
       "\n",
       "    .dataframe tbody tr th {\n",
       "        vertical-align: top;\n",
       "    }\n",
       "\n",
       "    .dataframe thead th {\n",
       "        text-align: right;\n",
       "    }\n",
       "</style>\n",
       "<table border=\"1\" class=\"dataframe\">\n",
       "  <thead>\n",
       "    <tr style=\"text-align: right;\">\n",
       "      <th></th>\n",
       "      <th>Name</th>\n",
       "      <th>Review</th>\n",
       "      <th>Date</th>\n",
       "      <th>Time</th>\n",
       "      <th>Recommendation</th>\n",
       "      <th>Sex</th>\n",
       "      <th>Location</th>\n",
       "    </tr>\n",
       "  </thead>\n",
       "  <tbody>\n",
       "    <tr>\n",
       "      <th>0</th>\n",
       "      <td>Erin Kelly</td>\n",
       "      <td>My giant store added this product recently it ...</td>\n",
       "      <td>13-10-2020</td>\n",
       "      <td>22:25:51</td>\n",
       "      <td>1</td>\n",
       "      <td>Female</td>\n",
       "      <td>NaN</td>\n",
       "    </tr>\n",
       "    <tr>\n",
       "      <th>1</th>\n",
       "      <td>Tammy Loeb</td>\n",
       "      <td>fresh delicious greens that are pesticide free...</td>\n",
       "      <td>31-07-2020</td>\n",
       "      <td>22:26:03</td>\n",
       "      <td>1</td>\n",
       "      <td>Female</td>\n",
       "      <td>Pennsylvania</td>\n",
       "    </tr>\n",
       "    <tr>\n",
       "      <th>2</th>\n",
       "      <td>Betty Kaye</td>\n",
       "      <td>They make fresh healthy food available locally...</td>\n",
       "      <td>29-07-2020</td>\n",
       "      <td>16:22:53</td>\n",
       "      <td>1</td>\n",
       "      <td>Female</td>\n",
       "      <td>New York</td>\n",
       "    </tr>\n",
       "    <tr>\n",
       "      <th>3</th>\n",
       "      <td>Anna Marie Torre Wright</td>\n",
       "      <td>Awesome lettuces Sunny Crunch is my favorite B...</td>\n",
       "      <td>24-01-2020</td>\n",
       "      <td>19:01:07</td>\n",
       "      <td>1</td>\n",
       "      <td>Female</td>\n",
       "      <td>New Jersey</td>\n",
       "    </tr>\n",
       "    <tr>\n",
       "      <th>4</th>\n",
       "      <td>Susan Oglesby</td>\n",
       "      <td>Awesome greens We bought some Sunny Crunch two...</td>\n",
       "      <td>02-04-2020</td>\n",
       "      <td>23:12:13</td>\n",
       "      <td>1</td>\n",
       "      <td>Female</td>\n",
       "      <td>Virginia</td>\n",
       "    </tr>\n",
       "    <tr>\n",
       "      <th>5</th>\n",
       "      <td>Barbara Burns</td>\n",
       "      <td>These were the best tasting salad greens I hav...</td>\n",
       "      <td>11-12-2019</td>\n",
       "      <td>15:43:02</td>\n",
       "      <td>1</td>\n",
       "      <td>Female</td>\n",
       "      <td>Missouri</td>\n",
       "    </tr>\n",
       "    <tr>\n",
       "      <th>6</th>\n",
       "      <td>Sally Miller</td>\n",
       "      <td>I got Spring MIx from a Giant grocery store in...</td>\n",
       "      <td>17-02-2020</td>\n",
       "      <td>14:06:39</td>\n",
       "      <td>1</td>\n",
       "      <td>Female</td>\n",
       "      <td>NaN</td>\n",
       "    </tr>\n",
       "    <tr>\n",
       "      <th>7</th>\n",
       "      <td>Candy Davis</td>\n",
       "      <td>Best there is Stays crisp for days even after ...</td>\n",
       "      <td>18-01-2020</td>\n",
       "      <td>23:50:25</td>\n",
       "      <td>1</td>\n",
       "      <td>Female</td>\n",
       "      <td>Ohio</td>\n",
       "    </tr>\n",
       "    <tr>\n",
       "      <th>8</th>\n",
       "      <td>Hiliary Bundle Styer</td>\n",
       "      <td>Love that we have local pesticide free lettuce...</td>\n",
       "      <td>31-01-2020</td>\n",
       "      <td>18:40:35</td>\n",
       "      <td>1</td>\n",
       "      <td>Female</td>\n",
       "      <td>NaN</td>\n",
       "    </tr>\n",
       "    <tr>\n",
       "      <th>9</th>\n",
       "      <td>Donna Deemer</td>\n",
       "      <td>they are fresh and crisp and very crunchy they...</td>\n",
       "      <td>07-08-2019</td>\n",
       "      <td>16:36:34</td>\n",
       "      <td>1</td>\n",
       "      <td>Female</td>\n",
       "      <td>West Virginia</td>\n",
       "    </tr>\n",
       "    <tr>\n",
       "      <th>10</th>\n",
       "      <td>Wendy Jochems</td>\n",
       "      <td>So grateful for their greens Love their Keep o...</td>\n",
       "      <td>01-05-2020</td>\n",
       "      <td>01:35:53</td>\n",
       "      <td>1</td>\n",
       "      <td>Female</td>\n",
       "      <td>Pennsylvania</td>\n",
       "    </tr>\n",
       "    <tr>\n",
       "      <th>11</th>\n",
       "      <td>Sandra McKellar</td>\n",
       "      <td>We tried the baby spinach and arugula and it w...</td>\n",
       "      <td>26-07-2019</td>\n",
       "      <td>20:44:56</td>\n",
       "      <td>1</td>\n",
       "      <td>Female</td>\n",
       "      <td>NaN</td>\n",
       "    </tr>\n",
       "    <tr>\n",
       "      <th>12</th>\n",
       "      <td>Kent Knisley</td>\n",
       "      <td>Great product but comes in single use nonrecyc...</td>\n",
       "      <td>23-07-2019</td>\n",
       "      <td>18:39:41</td>\n",
       "      <td>1</td>\n",
       "      <td>Male</td>\n",
       "      <td>NaN</td>\n",
       "    </tr>\n",
       "    <tr>\n",
       "      <th>13</th>\n",
       "      <td>Shannon Hill Mucci</td>\n",
       "      <td>Best baby spinach and baby kale we have ever c...</td>\n",
       "      <td>12-07-2019</td>\n",
       "      <td>14:29:20</td>\n",
       "      <td>1</td>\n",
       "      <td>Female</td>\n",
       "      <td>NaN</td>\n",
       "    </tr>\n",
       "    <tr>\n",
       "      <th>14</th>\n",
       "      <td>Becky Reighard</td>\n",
       "      <td>This is the only lettuce I’ll eat Always high ...</td>\n",
       "      <td>25-11-2018</td>\n",
       "      <td>03:12:57</td>\n",
       "      <td>1</td>\n",
       "      <td>Female</td>\n",
       "      <td>Pennsylvania</td>\n",
       "    </tr>\n",
       "    <tr>\n",
       "      <th>15</th>\n",
       "      <td>Jeannie Scott</td>\n",
       "      <td>the greens were excellent so fresh and flavourful</td>\n",
       "      <td>04-12-2018</td>\n",
       "      <td>02:36:48</td>\n",
       "      <td>1</td>\n",
       "      <td>Female</td>\n",
       "      <td>NaN</td>\n",
       "    </tr>\n",
       "    <tr>\n",
       "      <th>16</th>\n",
       "      <td>Kathy Frey-Yakubick</td>\n",
       "      <td>Love the fact that their produce is pesticide ...</td>\n",
       "      <td>07-03-2020</td>\n",
       "      <td>16:09:33</td>\n",
       "      <td>0</td>\n",
       "      <td>Female</td>\n",
       "      <td>NaN</td>\n",
       "    </tr>\n",
       "    <tr>\n",
       "      <th>17</th>\n",
       "      <td>Lara GLover</td>\n",
       "      <td>Amazing greens I shop at giant to buy brightfa...</td>\n",
       "      <td>20-09-2018</td>\n",
       "      <td>18:58:28</td>\n",
       "      <td>1</td>\n",
       "      <td>Female</td>\n",
       "      <td>Virginia</td>\n",
       "    </tr>\n",
       "    <tr>\n",
       "      <th>18</th>\n",
       "      <td>Jennilee Klatt</td>\n",
       "      <td>Best lettuce Ive ever tasted I hope that the g...</td>\n",
       "      <td>06-08-2018</td>\n",
       "      <td>11:56:08</td>\n",
       "      <td>1</td>\n",
       "      <td>Female</td>\n",
       "      <td>Ohio</td>\n",
       "    </tr>\n",
       "    <tr>\n",
       "      <th>19</th>\n",
       "      <td>Barbara Ebersole Hagler</td>\n",
       "      <td>Bright Farms Sunny Crunch is my favorite lettu...</td>\n",
       "      <td>28-11-2018</td>\n",
       "      <td>12:53:15</td>\n",
       "      <td>1</td>\n",
       "      <td>Female</td>\n",
       "      <td>Pennsylvania</td>\n",
       "    </tr>\n",
       "    <tr>\n",
       "      <th>20</th>\n",
       "      <td>Barbra Leard Freeman</td>\n",
       "      <td>Very tasty lettucesnHighly recommend</td>\n",
       "      <td>12-08-2018</td>\n",
       "      <td>23:59:39</td>\n",
       "      <td>1</td>\n",
       "      <td>Female</td>\n",
       "      <td>NaN</td>\n",
       "    </tr>\n",
       "    <tr>\n",
       "      <th>21</th>\n",
       "      <td>Nancy Ague</td>\n",
       "      <td>their produce is amazing always fresh and last...</td>\n",
       "      <td>04-10-2017</td>\n",
       "      <td>16:01:24</td>\n",
       "      <td>1</td>\n",
       "      <td>female</td>\n",
       "      <td>Maryland</td>\n",
       "    </tr>\n",
       "    <tr>\n",
       "      <th>22</th>\n",
       "      <td>David Cusato</td>\n",
       "      <td>Its the future</td>\n",
       "      <td>15-02-2014</td>\n",
       "      <td>04:51:56</td>\n",
       "      <td>1</td>\n",
       "      <td>Male</td>\n",
       "      <td>New York</td>\n",
       "    </tr>\n",
       "  </tbody>\n",
       "</table>\n",
       "</div>"
      ],
      "text/plain": [
       "                      Name   \\\n",
       "0               Erin Kelly    \n",
       "1                Tammy Loeb   \n",
       "2                Betty Kaye   \n",
       "3   Anna Marie Torre Wright   \n",
       "4             Susan Oglesby   \n",
       "5             Barbara Burns   \n",
       "6              Sally Miller   \n",
       "7               Candy Davis   \n",
       "8      Hiliary Bundle Styer   \n",
       "9              Donna Deemer   \n",
       "10            Wendy Jochems   \n",
       "11          Sandra McKellar   \n",
       "12             Kent Knisley   \n",
       "13       Shannon Hill Mucci   \n",
       "14           Becky Reighard   \n",
       "15            Jeannie Scott   \n",
       "16      Kathy Frey-Yakubick   \n",
       "17              Lara GLover   \n",
       "18          Jennilee Klatt    \n",
       "19  Barbara Ebersole Hagler   \n",
       "20     Barbra Leard Freeman   \n",
       "21               Nancy Ague   \n",
       "22             David Cusato   \n",
       "\n",
       "                                               Review       Date       Time  \\\n",
       "0   My giant store added this product recently it ...  13-10-2020  22:25:51   \n",
       "1   fresh delicious greens that are pesticide free...  31-07-2020  22:26:03   \n",
       "2   They make fresh healthy food available locally...  29-07-2020  16:22:53   \n",
       "3   Awesome lettuces Sunny Crunch is my favorite B...  24-01-2020  19:01:07   \n",
       "4   Awesome greens We bought some Sunny Crunch two...  02-04-2020  23:12:13   \n",
       "5   These were the best tasting salad greens I hav...  11-12-2019  15:43:02   \n",
       "6   I got Spring MIx from a Giant grocery store in...  17-02-2020  14:06:39   \n",
       "7   Best there is Stays crisp for days even after ...  18-01-2020  23:50:25   \n",
       "8   Love that we have local pesticide free lettuce...  31-01-2020  18:40:35   \n",
       "9   they are fresh and crisp and very crunchy they...  07-08-2019  16:36:34   \n",
       "10  So grateful for their greens Love their Keep o...  01-05-2020  01:35:53   \n",
       "11  We tried the baby spinach and arugula and it w...  26-07-2019  20:44:56   \n",
       "12  Great product but comes in single use nonrecyc...  23-07-2019  18:39:41   \n",
       "13  Best baby spinach and baby kale we have ever c...  12-07-2019  14:29:20   \n",
       "14  This is the only lettuce I’ll eat Always high ...  25-11-2018  03:12:57   \n",
       "15  the greens were excellent so fresh and flavourful  04-12-2018  02:36:48   \n",
       "16  Love the fact that their produce is pesticide ...  07-03-2020  16:09:33   \n",
       "17  Amazing greens I shop at giant to buy brightfa...  20-09-2018  18:58:28   \n",
       "18  Best lettuce Ive ever tasted I hope that the g...  06-08-2018  11:56:08   \n",
       "19  Bright Farms Sunny Crunch is my favorite lettu...  28-11-2018  12:53:15   \n",
       "20               Very tasty lettucesnHighly recommend  12-08-2018  23:59:39   \n",
       "21  their produce is amazing always fresh and last...  04-10-2017  16:01:24   \n",
       "22                                     Its the future  15-02-2014  04:51:56   \n",
       "\n",
       "    Recommendation      Sex       Location  \n",
       "0                1  Female             NaN  \n",
       "1                1  Female    Pennsylvania  \n",
       "2                1  Female        New York  \n",
       "3                1  Female      New Jersey  \n",
       "4                1  Female        Virginia  \n",
       "5                1  Female        Missouri  \n",
       "6                1   Female            NaN  \n",
       "7                1  Female            Ohio  \n",
       "8                1  Female             NaN  \n",
       "9                1  Female   West Virginia  \n",
       "10               1  Female    Pennsylvania  \n",
       "11               1  Female             NaN  \n",
       "12               1     Male            NaN  \n",
       "13               1  Female             NaN  \n",
       "14               1  Female    Pennsylvania  \n",
       "15               1  Female             NaN  \n",
       "16               0  Female             NaN  \n",
       "17               1  Female        Virginia  \n",
       "18               1  Female            Ohio  \n",
       "19               1  Female    Pennsylvania  \n",
       "20               1  Female             NaN  \n",
       "21               1   female       Maryland  \n",
       "22               1     Male       New York  "
      ]
     },
     "execution_count": 62,
     "metadata": {},
     "output_type": "execute_result"
    }
   ],
   "source": [
    "data"
   ]
  },
  {
   "cell_type": "code",
   "execution_count": 63,
   "metadata": {},
   "outputs": [],
   "source": [
    "data.to_csv('data.csv',index=False)"
   ]
  },
  {
   "cell_type": "code",
   "execution_count": null,
   "metadata": {},
   "outputs": [],
   "source": []
  }
 ],
 "metadata": {
  "kernelspec": {
   "display_name": "Python 3",
   "language": "python",
   "name": "python3"
  },
  "language_info": {
   "codemirror_mode": {
    "name": "ipython",
    "version": 3
   },
   "file_extension": ".py",
   "mimetype": "text/x-python",
   "name": "python",
   "nbconvert_exporter": "python",
   "pygments_lexer": "ipython3",
   "version": "3.8.5"
  }
 },
 "nbformat": 4,
 "nbformat_minor": 4
}
